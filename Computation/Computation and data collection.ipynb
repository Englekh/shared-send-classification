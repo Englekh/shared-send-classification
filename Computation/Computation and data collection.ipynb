{
 "cells": [
  {
   "cell_type": "markdown",
   "id": "7605e016",
   "metadata": {},
   "source": [
    "# Transaction computation"
   ]
  },
  {
   "cell_type": "code",
   "execution_count": 1,
   "id": "c92242a2",
   "metadata": {},
   "outputs": [],
   "source": [
    "import subprocess\n",
    "import time\n",
    "import os"
   ]
  },
  {
   "cell_type": "code",
   "execution_count": 2,
   "id": "22bddbdf",
   "metadata": {},
   "outputs": [],
   "source": [
    "input_folder = '' # Folder with transactions\n",
    "output_folder = '' # Folder to output\n",
    "bin_name = 'solver' # Name of compilated bin algorythm\n",
    "time_limit = 5 #Time limit in seconds\n",
    "nums = list(range(1, 500001))# #Transactions to sort"
   ]
  },
  {
   "cell_type": "code",
   "execution_count": null,
   "id": "f4abbf4b",
   "metadata": {},
   "outputs": [
    {
     "name": "stdout",
     "output_type": "stream",
     "text": [
      " 429080 / 500000 | time_left: 2022741.6687227783          time_left: 2129849.7933221217          / 500000 | time_left: 2114440.52828976          2299050.46628558          424466 / 500000 | time_left: 2273117.7728913543           2188236.1425732775          "
     ]
    }
   ],
   "source": [
    "start = time.time()\n",
    "    \n",
    "i = 0\n",
    "for num in nums: \n",
    "    now = time.time()\n",
    "    i += 1\n",
    "    print('\\r', num, '/', nums[-1], '|', 'time_left:', (now - start) * (len(nums) - i) / i, '         ', end = '')\n",
    "    proc = subprocess.Popen([\"./\" + bin_name, input_folder + '/' + str(num) + '_input.txt', output_folder + '/' + str(num) + '_output.txt', str(time_limit)])\n",
    "    proc.wait()\n",
    "        "
   ]
  },
  {
   "cell_type": "markdown",
   "id": "8180d7b2",
   "metadata": {},
   "source": [
    "-----------------------------------------------------------------------------------------------------------------\n",
    "# Results compilation"
   ]
  },
  {
   "cell_type": "code",
   "execution_count": null,
   "id": "9d3571fc",
   "metadata": {},
   "outputs": [],
   "source": [
    "import matplotlib.pyplot as plt\n",
    "import pandas as pd\n",
    "import numpy as np\n",
    "import time\n",
    "import datetime\n",
    "import os"
   ]
  },
  {
   "cell_type": "code",
   "execution_count": null,
   "id": "46d33a9f",
   "metadata": {},
   "outputs": [],
   "source": [
    "def get_info(folder):\n",
    "    st = time.time()\n",
    "    ls = os.listdir(folder)\n",
    "    main_types = {'num':[], 'year':[], 'month':[], 'day':[], 'size':[], 'finished':[], 'VERDICT SIMPLE':[], 'VERDICT SEPARABLE':[], 'VERDICT AMBIGUOUS':[], 'TIME LIMIT EXTENDED':[], 'NON-SHARED':[]}\n",
    "    for i in range(len(ls)):\n",
    "        el = ls[i]\n",
    "        fd = open(folder + '/' + el, 'r')\n",
    "        try:\n",
    "            date = int(fd.readline())   \n",
    "            num = int(fd.readline())\n",
    "            count = 0\n",
    "            types = {}\n",
    "\n",
    "            line = fd.readline()\n",
    "            while line:\n",
    "                if line[0] == '#':\n",
    "                    count += 1\n",
    "                    if line[2:-1] in types:\n",
    "                        types[line[2:-1]] += 1\n",
    "                    else:\n",
    "                        types[line[2:-1]] = 1\n",
    "                line = fd.readline()\n",
    "\n",
    "            fd.close()\n",
    "\n",
    "            dt = datetime.datetime.fromtimestamp(date)\n",
    "            main_types['year'].append(dt.year)\n",
    "            main_types['month'].append(dt.month)\n",
    "            main_types['day'].append(dt.day)\n",
    "            main_types['num'].append(el.split('_')[0])\n",
    "            main_types['finished'].append(count == num) \n",
    "            main_types['size'].append(count)\n",
    "            main_types['VERDICT SIMPLE'].append(types.get('VERDICT SIMPLE', 0))\n",
    "            main_types['VERDICT SEPARABLE'].append(types.get('VERDICT SEPARABLE', 0))\n",
    "            main_types['VERDICT AMBIGUOUS'].append(types.get('VERDICT AMBIGUOUS', 0))\n",
    "            main_types['TIME LIMIT EXTENDED'].append(types.get('TIME LIMIT EXTENDED', 0))\n",
    "            main_types['TIME LIMIT EXTENDED'].append(types.get('NON-SHARED', 0))\n",
    "        except:\n",
    "            print(i, ls[i])\n",
    "        \n",
    "        print('\\r', i, len(ls), (time.time() - st) * (len(ls) - i) / (i + 1), end = '')\n",
    "    \n",
    "    return pd.DataFrame(main_types)"
   ]
  },
  {
   "cell_type": "code",
   "execution_count": null,
   "id": "3ccf005b",
   "metadata": {},
   "outputs": [],
   "source": [
    "df = get_info(output_folder)\n",
    "df.sort_values(['year', 'month', 'day'], inplace=True)\n",
    "\n",
    "df = df.reset_index(drop=True)\n",
    "df.to_csv('res.csv')"
   ]
  }
 ],
 "metadata": {
  "kernelspec": {
   "display_name": "Python 3 (ipykernel)",
   "language": "python",
   "name": "python3"
  },
  "language_info": {
   "codemirror_mode": {
    "name": "ipython",
    "version": 3
   },
   "file_extension": ".py",
   "mimetype": "text/x-python",
   "name": "python",
   "nbconvert_exporter": "python",
   "pygments_lexer": "ipython3",
   "version": "3.10.6"
  }
 },
 "nbformat": 4,
 "nbformat_minor": 5
}
