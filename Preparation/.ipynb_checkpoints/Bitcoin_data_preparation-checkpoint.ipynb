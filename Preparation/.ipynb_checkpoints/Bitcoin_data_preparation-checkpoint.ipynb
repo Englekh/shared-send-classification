{
 "cells": [
  {
   "cell_type": "code",
   "execution_count": 6,
   "id": "02b1d94b",
   "metadata": {},
   "outputs": [],
   "source": [
    "from bitcoinrpc.authproxy import AuthServiceProxy, JSONRPCException\n",
    "from fdict import sfdict\n",
    "import time\n",
    "import subprocess\n",
    "import json\n",
    "import sys\n",
    "import os"
   ]
  },
  {
   "cell_type": "code",
   "execution_count": null,
   "id": "ca54b943",
   "metadata": {},
   "outputs": [],
   "source": [
    "rpc_user = #rpc server login\n",
    "rpc_password = #rpc server pass \n",
    "\n",
    "CONST = 100000000 # Satoshi in BTC\n",
    "blocks = 730000 #Blocks RN \n",
    "\n",
    "outfile = 'json_data.json' # Auto save file (every 1000 blocks)\n",
    "extra_outfile = 'json_data_extra.json' # Error save file (after srush)\n",
    "\n",
    "folder = 'inputs/'"
   ]
  },
  {
   "cell_type": "code",
   "execution_count": 2,
   "id": "f896999d",
   "metadata": {},
   "outputs": [
    {
     "data": {
      "text/plain": [
       "733363"
      ]
     },
     "execution_count": 2,
     "metadata": {},
     "output_type": "execute_result"
    }
   ],
   "source": [
    "# rpc_user and rpc_password are set in the bitcoin.conf file\n",
    "rpc_connection = AuthServiceProxy(\"http://%s:%s@127.0.0.1:8666\"%(rpc_user, rpc_password))\n",
    "\n",
    "\n",
    "blocks = rpc_connection.getblockcount()"
   ]
  },
  {
   "cell_type": "code",
   "execution_count": 3,
   "id": "5ab7bdba",
   "metadata": {},
   "outputs": [],
   "source": [
    "# Getting adress of transaction reciever\n",
    "def get_adr(pub_key, rpc_connection):\n",
    "    try:\n",
    "        if pub_key['type'] == 'pubkey':\n",
    "            adr = pub_key['asm'].split()[0]\n",
    "            desk = rpc_connection.getdescriptorinfo('pkh(' + adr + ')')['descriptor']\n",
    "            adress = rpc_connection.deriveaddresses(desk)[0]\n",
    "\n",
    "        else:\n",
    "            if pub_key['type'] == 'nonstandard':\n",
    "                adress = 'Unreadable'\n",
    "            else:    \n",
    "                adress = pub_key['address']\n",
    "    except:\n",
    "        adress = 'Unreadable'\n",
    "    return adress"
   ]
  },
  {
   "cell_type": "code",
   "execution_count": 15,
   "id": "52b18940",
   "metadata": {},
   "outputs": [],
   "source": [
    "def build_files(start_n, end, rpc_connection):\n",
    "    rpc_connection = AuthServiceProxy(\"http://%s:%s@127.0.0.1:8666\"%(rpc_user, rpc_password), timeout=1000)\n",
    "    global er_num \n",
    "    if os.path.exists(outfile):\n",
    "        with open(outfile) as json_file:\n",
    "            arch = json.load(json_file)\n",
    "    else:\n",
    "        arch = {}\n",
    "    \n",
    "    # Start timer\n",
    "    start = time.time()\n",
    "    er = 0\n",
    "    i = 0\n",
    "    try:\n",
    "        for num in range(start_n, end):\n",
    "            # Dump backup\n",
    "            if num % 1000 == 0:\n",
    "                with open(outfile, 'w') as outf:\n",
    "                    json.dump(arch, outf)    \n",
    "                rpc_connection = AuthServiceProxy(\"http://%s:%s@127.0.0.1:8666\"%(rpc_user, rpc_password), timeout=1000)\n",
    "\n",
    "            # Update timer\n",
    "            now = time.time()\n",
    "            i += 1\n",
    "            print('\\r', num, '/', end, '|', 'time_left:', (now - start) * (end - start_n - i) / i, 'errors', er , '         ', end = '')\n",
    "            file = open(folder + str(num) + '_input.txt', 'w')\n",
    "\n",
    "            # Get block\n",
    "            hash1 = rpc_connection.getblockhash(num)\n",
    "            a = rpc_connection.getblock(hash1, 2)\n",
    "\n",
    "            file.write(str(a['mediantime']) + '\\n')\n",
    "            file.write(str(len(a['tx']) - 1) + '\\n') \n",
    "\n",
    "            # Get miner\n",
    "            exits = {}\n",
    "            for el in a['tx'][0]['vout']:\n",
    "                adr = get_adr(el['scriptPubKey'], rpc_connection)\n",
    "                exits[str(el['n'])] = (adr, int(el['value'] * CONST))\n",
    "\n",
    "\n",
    "            arch[a['tx'][0]['txid']] = exits\n",
    "\n",
    "            # Write transactions\n",
    "            for j in range(1, len(a['tx'])):\n",
    "                file.write('>' + str(j) + '\\n')\n",
    "                file.write('Inputs:' + str(len(a['tx'][j]['vin'])) + '\\n')\n",
    "\n",
    "                for el in a['tx'][j]['vin']:\n",
    "                    try:\n",
    "                        output = arch[el['txid']].pop(str(el['vout']), ('Forgoten', 50 * CONST))\n",
    "                        if output[0] != 'Forgoten' and len(arch[el['txid']]) == 0:\n",
    "                            arch.pop(el['txid'])\n",
    "                    except:\n",
    "                        output = ('Forgoten', 50 * CONST)\n",
    "                    if output[0] == 'Forgoten':\n",
    "                        er += 1\n",
    "                    file.write(output[0] + ':' +  str(output[1]) + '\\n')\n",
    "\n",
    "\n",
    "                file.write('Outputs:' + str(len(a['tx'][j]['vout'])) + '\\n')\n",
    "                exits = {}\n",
    "                for el in a['tx'][j]['vout']:\n",
    "                    adr = get_adr(el['scriptPubKey'], rpc_connection)\n",
    "                    val = int(el['value'] * CONST)\n",
    "                    exits[str(el['n'])] = (adr, val)\n",
    "                    file.write(adr + ':' +  str(val) + '\\n')\n",
    "                arch[a['tx'][j]['txid']] = exits\n",
    "\n",
    "            file.close()    \n",
    "            \n",
    "            \n",
    "    finally:\n",
    "        with open(extra_outfile, 'w') as outf:\n",
    "            json.dump(arch, outf)\n",
    "        er_num = er"
   ]
  },
  {
   "cell_type": "code",
   "execution_count": null,
   "id": "b5d4b274",
   "metadata": {},
   "outputs": [],
   "source": [
    "er_num = 0\n",
    "l_num = 0\n",
    "build_files(l_num, blocks)"
   ]
  }
 ],
 "metadata": {
  "kernelspec": {
   "display_name": "Python 3 (ipykernel)",
   "language": "python",
   "name": "python3"
  },
  "language_info": {
   "codemirror_mode": {
    "name": "ipython",
    "version": 3
   },
   "file_extension": ".py",
   "mimetype": "text/x-python",
   "name": "python",
   "nbconvert_exporter": "python",
   "pygments_lexer": "ipython3",
   "version": "3.8.10"
  }
 },
 "nbformat": 4,
 "nbformat_minor": 5
}
